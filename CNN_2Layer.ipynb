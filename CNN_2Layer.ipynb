version https://git-lfs.github.com/spec/v1
oid sha256:4cb78eaedd535ebe6f03321564ae4f86947c10610a58954b4aceb542a1a2b7c9
size 51011
